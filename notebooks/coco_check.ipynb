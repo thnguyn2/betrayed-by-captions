{
 "cells": [
  {
   "cell_type": "markdown",
   "metadata": {},
   "source": [
    "## A notebook to check the performance of OVIS on COCO novel class"
   ]
  },
  {
   "cell_type": "code",
   "execution_count": 1,
   "metadata": {},
   "outputs": [],
   "source": [
    "%matplotlib inline"
   ]
  },
  {
   "cell_type": "markdown",
   "metadata": {},
   "source": [
    "## Part 1: The the class embeddings to match the saved embeddings"
   ]
  },
  {
   "cell_type": "code",
   "execution_count": 2,
   "metadata": {},
   "outputs": [
    {
     "name": "stderr",
     "output_type": "stream",
     "text": [
      "/opt/conda/envs/betray/lib/python3.10/site-packages/mmcv/__init__.py:20: UserWarning: On January 1, 2023, MMCV will release v2.0.0, in which it will remove components related to the training process and add a data transformation module. In addition, it will rename the package names mmcv to mmcv-lite and mmcv-full to mmcv. See https://github.com/open-mmlab/mmcv/blob/master/docs/en/compatibility.md for more details.\n",
      "  warnings.warn(\n"
     ]
    }
   ],
   "source": [
    "from pathlib import Path\n",
    "import mmcv\n",
    "import sys\n",
    "import torch"
   ]
  },
  {
   "cell_type": "code",
   "execution_count": 3,
   "metadata": {},
   "outputs": [],
   "source": [
    "BETRAY_PATH = \"/jupyter-users-home/tan-2enguyen/betrayed-by-captions\""
   ]
  },
  {
   "cell_type": "code",
   "execution_count": 4,
   "metadata": {},
   "outputs": [],
   "source": [
    "if BETRAY_PATH not in sys.path:\n",
    "    sys.path.append(BETRAY_PATH)"
   ]
  },
  {
   "cell_type": "code",
   "execution_count": 5,
   "metadata": {},
   "outputs": [],
   "source": [
    "known_class_file = '../datasets/unknown/known_65.txt'\n",
    "class_emb_file = '../datasets/embeddings/coco_class_with_bert_emb.json'"
   ]
  },
  {
   "cell_type": "code",
   "execution_count": 6,
   "metadata": {},
   "outputs": [],
   "source": [
    "file_client = mmcv.FileClient()"
   ]
  },
  {
   "cell_type": "code",
   "execution_count": 7,
   "metadata": {},
   "outputs": [],
   "source": [
    "all_known_classes = file_client.get_text(known_class_file).split('\\n')"
   ]
  },
  {
   "cell_type": "code",
   "execution_count": 8,
   "metadata": {},
   "outputs": [
    {
     "name": "stderr",
     "output_type": "stream",
     "text": [
      "/opt/conda/envs/betray/lib/python3.10/site-packages/tqdm/auto.py:21: TqdmWarning: IProgress not found. Please update jupyter and ipywidgets. See https://ipywidgets.readthedocs.io/en/stable/user_install.html\n",
      "  from .autonotebook import tqdm as notebook_tqdm\n"
     ]
    }
   ],
   "source": [
    "import transformers\n",
    "from open_set.models.utils.bert_embeddings import BertEmbeddings, BERT_MODEL_BY_EMBEDDING_TYPES"
   ]
  },
  {
   "cell_type": "code",
   "execution_count": 9,
   "metadata": {},
   "outputs": [],
   "source": [
    "emb_type = 'bert'\n",
    "tokenizer = transformers.BertTokenizer.from_pretrained(BERT_MODEL_BY_EMBEDDING_TYPES[emb_type])\n",
    "bert_embeddings = BertEmbeddings(\n",
    "    bert_model=transformers.AutoModel.from_pretrained(BERT_MODEL_BY_EMBEDDING_TYPES[emb_type]).eval(),\n",
    ")\n",
    "\n",
    "for param in bert_embeddings.parameters():\n",
    "    param.requires_grad = False"
   ]
  },
  {
   "cell_type": "code",
   "execution_count": 14,
   "metadata": {},
   "outputs": [],
   "source": [
    "embs_by_name = {\n",
    "    name: bert_embeddings.calculate_word_embeddings(\n",
    "        torch.tensor(tokenizer.encode(name, add_special_tokens=False))\n",
    "        ) for name in all_known_classes\n",
    "    }"
   ]
  },
  {
   "cell_type": "code",
   "execution_count": 15,
   "metadata": {},
   "outputs": [],
   "source": [
    "gt_embs_by_name = {x['name']: torch.tensor(x['emb']) for x in mmcv.load(class_emb_file) if x['name'] in embs_by_name}"
   ]
  },
  {
   "cell_type": "code",
   "execution_count": 16,
   "metadata": {},
   "outputs": [],
   "source": [
    "error_by_name = {k: torch.norm(v - gt_embs_by_name[k], p='fro') for k, v in embs_by_name.items()}"
   ]
  },
  {
   "cell_type": "code",
   "execution_count": 17,
   "metadata": {},
   "outputs": [
    {
     "data": {
      "text/plain": [
       "{'person': tensor(0.),\n",
       " 'bicycle': tensor(0.),\n",
       " 'car': tensor(0.),\n",
       " 'motorcycle': tensor(1.7268e-06),\n",
       " 'truck': tensor(3.3101e-06),\n",
       " 'boat': tensor(1.6852e-06),\n",
       " 'bench': tensor(0.),\n",
       " 'bird': tensor(0.),\n",
       " 'horse': tensor(0.),\n",
       " 'sheep': tensor(0.),\n",
       " 'zebra': tensor(0.),\n",
       " 'giraffe': tensor(1.1234e-06),\n",
       " 'backpack': tensor(0.),\n",
       " 'handbag': tensor(0.),\n",
       " 'skis': tensor(0.),\n",
       " 'kite': tensor(0.),\n",
       " 'surfboard': tensor(0.),\n",
       " 'bottle': tensor(0.),\n",
       " 'spoon': tensor(3.8716e-06),\n",
       " 'bowl': tensor(1.7392e-06),\n",
       " 'banana': tensor(0.),\n",
       " 'apple': tensor(0.),\n",
       " 'orange': tensor(1.6809e-06),\n",
       " 'broccoli': tensor(1.0401e-06),\n",
       " 'carrot': tensor(0.),\n",
       " 'pizza': tensor(1.7574e-06),\n",
       " 'donut': tensor(1.0273e-06),\n",
       " 'chair': tensor(0.),\n",
       " 'bed': tensor(0.),\n",
       " 'tv': tensor(0.),\n",
       " 'laptop': tensor(0.),\n",
       " 'remote': tensor(0.),\n",
       " 'microwave': tensor(0.),\n",
       " 'oven': tensor(1.6289e-06),\n",
       " 'refrigerator': tensor(1.7703e-06),\n",
       " 'book': tensor(0.),\n",
       " 'clock': tensor(0.),\n",
       " 'vase': tensor(0.),\n",
       " 'toothbrush': tensor(0.),\n",
       " 'train': tensor(0.),\n",
       " 'bear': tensor(2.1258e-06),\n",
       " 'suitcase': tensor(1.6771e-06),\n",
       " 'frisbee': tensor(1.9736e-06),\n",
       " 'fork': tensor(1.6896e-06),\n",
       " 'sandwich': tensor(0.),\n",
       " 'toilet': tensor(0.),\n",
       " 'mouse': tensor(1.7566e-06),\n",
       " 'toaster': tensor(0.),\n",
       " 'bus': tensor(0.),\n",
       " 'dog': tensor(1.7765e-06),\n",
       " 'cow': tensor(1.7731e-06),\n",
       " 'elephant': tensor(1.7659e-06),\n",
       " 'umbrella': tensor(0.),\n",
       " 'tie': tensor(2.2085e-06),\n",
       " 'skateboard': tensor(0.),\n",
       " 'cup': tensor(0.),\n",
       " 'knife': tensor(0.),\n",
       " 'cake': tensor(0.),\n",
       " 'couch': tensor(1.8417e-06),\n",
       " 'keyboard': tensor(0.),\n",
       " 'sink': tensor(0.),\n",
       " 'scissors': tensor(0.),\n",
       " 'airplane': tensor(0.),\n",
       " 'cat': tensor(0.),\n",
       " 'snowboard': tensor(0.)}"
      ]
     },
     "execution_count": 17,
     "metadata": {},
     "output_type": "execute_result"
    }
   ],
   "source": [
    "error_by_name"
   ]
  },
  {
   "cell_type": "code",
   "execution_count": 23,
   "metadata": {},
   "outputs": [
    {
     "data": {
      "text/plain": [
       "tensor([ 0.1695,  0.2706, -0.4257, -0.3790, -0.0683,  0.4941,  0.3115,  0.7079,\n",
       "         0.3109, -0.0182])"
      ]
     },
     "execution_count": 23,
     "metadata": {},
     "output_type": "execute_result"
    }
   ],
   "source": [
    "gt_embs_by_name['giraffe'][:10]\n"
   ]
  },
  {
   "cell_type": "code",
   "execution_count": 22,
   "metadata": {},
   "outputs": [
    {
     "data": {
      "text/plain": [
       "tensor([ 0.1695,  0.2706, -0.4257, -0.3790, -0.0683,  0.4941,  0.3115,  0.7079,\n",
       "         0.3109, -0.0182])"
      ]
     },
     "execution_count": 22,
     "metadata": {},
     "output_type": "execute_result"
    }
   ],
   "source": [
    "embs_by_name['giraffe'][:10]"
   ]
  },
  {
   "cell_type": "code",
   "execution_count": null,
   "metadata": {},
   "outputs": [],
   "source": []
  }
 ],
 "metadata": {
  "kernelspec": {
   "display_name": "betray",
   "language": "python",
   "name": "python3"
  },
  "language_info": {
   "codemirror_mode": {
    "name": "ipython",
    "version": 3
   },
   "file_extension": ".py",
   "mimetype": "text/x-python",
   "name": "python",
   "nbconvert_exporter": "python",
   "pygments_lexer": "ipython3",
   "version": "3.10.14"
  }
 },
 "nbformat": 4,
 "nbformat_minor": 2
}
